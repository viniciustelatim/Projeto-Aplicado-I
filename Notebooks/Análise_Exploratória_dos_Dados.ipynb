{
  "nbformat": 4,
  "nbformat_minor": 0,
  "metadata": {
    "colab": {
      "provenance": [],
      "toc_visible": true
    },
    "kernelspec": {
      "name": "python3",
      "display_name": "Python 3"
    },
    "language_info": {
      "name": "python"
    }
  },
  "cells": [
    {
      "cell_type": "markdown",
      "source": [
        "#IMPORTANDO OS DADOS"
      ],
      "metadata": {
        "id": "ERrcO8KAC83L"
      }
    },
    {
      "cell_type": "code",
      "source": [
        "import pandas as pd\n",
        "import numpy as np\n",
        "import seaborn as sns"
      ],
      "metadata": {
        "id": "CMaXbVc3RuB7"
      },
      "execution_count": null,
      "outputs": []
    },
    {
      "cell_type": "code",
      "source": [
        "data = pd.read_csv('https://github.com/viniciustelatim/Projeto-Aplicado-I/raw/main/Dataset/Student%20Alcohol%20Consumption.csv', sep = ';')\n",
        "df = pd.DataFrame(data)\n",
        "df.head()"
      ],
      "metadata": {
        "colab": {
          "base_uri": "https://localhost:8080/",
          "height": 300
        },
        "id": "qV5bQYP5anSj",
        "outputId": "710ec377-7318-4ee2-fc07-99a14e491460"
      },
      "execution_count": null,
      "outputs": [
        {
          "output_type": "execute_result",
          "data": {
            "text/plain": [
              "  school sex  age address famsize Pstatus  Medu  Fedu     Mjob      Fjob  ...  \\\n",
              "0     GP   F   18       U     GT3       A     4     4  at_home   teacher  ...   \n",
              "1     GP   F   17       U     GT3       T     1     1  at_home     other  ...   \n",
              "2     GP   F   15       U     LE3       T     1     1  at_home     other  ...   \n",
              "3     GP   F   15       U     GT3       T     4     2   health  services  ...   \n",
              "4     GP   F   16       U     GT3       T     3     3    other     other  ...   \n",
              "\n",
              "  famrel freetime  goout  Dalc  Walc health absences  G1  G2  G3  \n",
              "0      4        3      4     1     1      3        4   0  11  11  \n",
              "1      5        3      3     1     1      3        2   9  11  11  \n",
              "2      4        3      2     2     3      3        6  12  13  12  \n",
              "3      3        2      2     1     1      5        0  14  14  14  \n",
              "4      4        3      2     1     2      5        0  11  13  13  \n",
              "\n",
              "[5 rows x 33 columns]"
            ],
            "text/html": [
              "\n",
              "  <div id=\"df-5120c711-2c9c-45df-8ff7-a1b012498434\">\n",
              "    <div class=\"colab-df-container\">\n",
              "      <div>\n",
              "<style scoped>\n",
              "    .dataframe tbody tr th:only-of-type {\n",
              "        vertical-align: middle;\n",
              "    }\n",
              "\n",
              "    .dataframe tbody tr th {\n",
              "        vertical-align: top;\n",
              "    }\n",
              "\n",
              "    .dataframe thead th {\n",
              "        text-align: right;\n",
              "    }\n",
              "</style>\n",
              "<table border=\"1\" class=\"dataframe\">\n",
              "  <thead>\n",
              "    <tr style=\"text-align: right;\">\n",
              "      <th></th>\n",
              "      <th>school</th>\n",
              "      <th>sex</th>\n",
              "      <th>age</th>\n",
              "      <th>address</th>\n",
              "      <th>famsize</th>\n",
              "      <th>Pstatus</th>\n",
              "      <th>Medu</th>\n",
              "      <th>Fedu</th>\n",
              "      <th>Mjob</th>\n",
              "      <th>Fjob</th>\n",
              "      <th>...</th>\n",
              "      <th>famrel</th>\n",
              "      <th>freetime</th>\n",
              "      <th>goout</th>\n",
              "      <th>Dalc</th>\n",
              "      <th>Walc</th>\n",
              "      <th>health</th>\n",
              "      <th>absences</th>\n",
              "      <th>G1</th>\n",
              "      <th>G2</th>\n",
              "      <th>G3</th>\n",
              "    </tr>\n",
              "  </thead>\n",
              "  <tbody>\n",
              "    <tr>\n",
              "      <th>0</th>\n",
              "      <td>GP</td>\n",
              "      <td>F</td>\n",
              "      <td>18</td>\n",
              "      <td>U</td>\n",
              "      <td>GT3</td>\n",
              "      <td>A</td>\n",
              "      <td>4</td>\n",
              "      <td>4</td>\n",
              "      <td>at_home</td>\n",
              "      <td>teacher</td>\n",
              "      <td>...</td>\n",
              "      <td>4</td>\n",
              "      <td>3</td>\n",
              "      <td>4</td>\n",
              "      <td>1</td>\n",
              "      <td>1</td>\n",
              "      <td>3</td>\n",
              "      <td>4</td>\n",
              "      <td>0</td>\n",
              "      <td>11</td>\n",
              "      <td>11</td>\n",
              "    </tr>\n",
              "    <tr>\n",
              "      <th>1</th>\n",
              "      <td>GP</td>\n",
              "      <td>F</td>\n",
              "      <td>17</td>\n",
              "      <td>U</td>\n",
              "      <td>GT3</td>\n",
              "      <td>T</td>\n",
              "      <td>1</td>\n",
              "      <td>1</td>\n",
              "      <td>at_home</td>\n",
              "      <td>other</td>\n",
              "      <td>...</td>\n",
              "      <td>5</td>\n",
              "      <td>3</td>\n",
              "      <td>3</td>\n",
              "      <td>1</td>\n",
              "      <td>1</td>\n",
              "      <td>3</td>\n",
              "      <td>2</td>\n",
              "      <td>9</td>\n",
              "      <td>11</td>\n",
              "      <td>11</td>\n",
              "    </tr>\n",
              "    <tr>\n",
              "      <th>2</th>\n",
              "      <td>GP</td>\n",
              "      <td>F</td>\n",
              "      <td>15</td>\n",
              "      <td>U</td>\n",
              "      <td>LE3</td>\n",
              "      <td>T</td>\n",
              "      <td>1</td>\n",
              "      <td>1</td>\n",
              "      <td>at_home</td>\n",
              "      <td>other</td>\n",
              "      <td>...</td>\n",
              "      <td>4</td>\n",
              "      <td>3</td>\n",
              "      <td>2</td>\n",
              "      <td>2</td>\n",
              "      <td>3</td>\n",
              "      <td>3</td>\n",
              "      <td>6</td>\n",
              "      <td>12</td>\n",
              "      <td>13</td>\n",
              "      <td>12</td>\n",
              "    </tr>\n",
              "    <tr>\n",
              "      <th>3</th>\n",
              "      <td>GP</td>\n",
              "      <td>F</td>\n",
              "      <td>15</td>\n",
              "      <td>U</td>\n",
              "      <td>GT3</td>\n",
              "      <td>T</td>\n",
              "      <td>4</td>\n",
              "      <td>2</td>\n",
              "      <td>health</td>\n",
              "      <td>services</td>\n",
              "      <td>...</td>\n",
              "      <td>3</td>\n",
              "      <td>2</td>\n",
              "      <td>2</td>\n",
              "      <td>1</td>\n",
              "      <td>1</td>\n",
              "      <td>5</td>\n",
              "      <td>0</td>\n",
              "      <td>14</td>\n",
              "      <td>14</td>\n",
              "      <td>14</td>\n",
              "    </tr>\n",
              "    <tr>\n",
              "      <th>4</th>\n",
              "      <td>GP</td>\n",
              "      <td>F</td>\n",
              "      <td>16</td>\n",
              "      <td>U</td>\n",
              "      <td>GT3</td>\n",
              "      <td>T</td>\n",
              "      <td>3</td>\n",
              "      <td>3</td>\n",
              "      <td>other</td>\n",
              "      <td>other</td>\n",
              "      <td>...</td>\n",
              "      <td>4</td>\n",
              "      <td>3</td>\n",
              "      <td>2</td>\n",
              "      <td>1</td>\n",
              "      <td>2</td>\n",
              "      <td>5</td>\n",
              "      <td>0</td>\n",
              "      <td>11</td>\n",
              "      <td>13</td>\n",
              "      <td>13</td>\n",
              "    </tr>\n",
              "  </tbody>\n",
              "</table>\n",
              "<p>5 rows × 33 columns</p>\n",
              "</div>\n",
              "      <button class=\"colab-df-convert\" onclick=\"convertToInteractive('df-5120c711-2c9c-45df-8ff7-a1b012498434')\"\n",
              "              title=\"Convert this dataframe to an interactive table.\"\n",
              "              style=\"display:none;\">\n",
              "        \n",
              "  <svg xmlns=\"http://www.w3.org/2000/svg\" height=\"24px\"viewBox=\"0 0 24 24\"\n",
              "       width=\"24px\">\n",
              "    <path d=\"M0 0h24v24H0V0z\" fill=\"none\"/>\n",
              "    <path d=\"M18.56 5.44l.94 2.06.94-2.06 2.06-.94-2.06-.94-.94-2.06-.94 2.06-2.06.94zm-11 1L8.5 8.5l.94-2.06 2.06-.94-2.06-.94L8.5 2.5l-.94 2.06-2.06.94zm10 10l.94 2.06.94-2.06 2.06-.94-2.06-.94-.94-2.06-.94 2.06-2.06.94z\"/><path d=\"M17.41 7.96l-1.37-1.37c-.4-.4-.92-.59-1.43-.59-.52 0-1.04.2-1.43.59L10.3 9.45l-7.72 7.72c-.78.78-.78 2.05 0 2.83L4 21.41c.39.39.9.59 1.41.59.51 0 1.02-.2 1.41-.59l7.78-7.78 2.81-2.81c.8-.78.8-2.07 0-2.86zM5.41 20L4 18.59l7.72-7.72 1.47 1.35L5.41 20z\"/>\n",
              "  </svg>\n",
              "      </button>\n",
              "      \n",
              "  <style>\n",
              "    .colab-df-container {\n",
              "      display:flex;\n",
              "      flex-wrap:wrap;\n",
              "      gap: 12px;\n",
              "    }\n",
              "\n",
              "    .colab-df-convert {\n",
              "      background-color: #E8F0FE;\n",
              "      border: none;\n",
              "      border-radius: 50%;\n",
              "      cursor: pointer;\n",
              "      display: none;\n",
              "      fill: #1967D2;\n",
              "      height: 32px;\n",
              "      padding: 0 0 0 0;\n",
              "      width: 32px;\n",
              "    }\n",
              "\n",
              "    .colab-df-convert:hover {\n",
              "      background-color: #E2EBFA;\n",
              "      box-shadow: 0px 1px 2px rgba(60, 64, 67, 0.3), 0px 1px 3px 1px rgba(60, 64, 67, 0.15);\n",
              "      fill: #174EA6;\n",
              "    }\n",
              "\n",
              "    [theme=dark] .colab-df-convert {\n",
              "      background-color: #3B4455;\n",
              "      fill: #D2E3FC;\n",
              "    }\n",
              "\n",
              "    [theme=dark] .colab-df-convert:hover {\n",
              "      background-color: #434B5C;\n",
              "      box-shadow: 0px 1px 3px 1px rgba(0, 0, 0, 0.15);\n",
              "      filter: drop-shadow(0px 1px 2px rgba(0, 0, 0, 0.3));\n",
              "      fill: #FFFFFF;\n",
              "    }\n",
              "  </style>\n",
              "\n",
              "      <script>\n",
              "        const buttonEl =\n",
              "          document.querySelector('#df-5120c711-2c9c-45df-8ff7-a1b012498434 button.colab-df-convert');\n",
              "        buttonEl.style.display =\n",
              "          google.colab.kernel.accessAllowed ? 'block' : 'none';\n",
              "\n",
              "        async function convertToInteractive(key) {\n",
              "          const element = document.querySelector('#df-5120c711-2c9c-45df-8ff7-a1b012498434');\n",
              "          const dataTable =\n",
              "            await google.colab.kernel.invokeFunction('convertToInteractive',\n",
              "                                                     [key], {});\n",
              "          if (!dataTable) return;\n",
              "\n",
              "          const docLinkHtml = 'Like what you see? Visit the ' +\n",
              "            '<a target=\"_blank\" href=https://colab.research.google.com/notebooks/data_table.ipynb>data table notebook</a>'\n",
              "            + ' to learn more about interactive tables.';\n",
              "          element.innerHTML = '';\n",
              "          dataTable['output_type'] = 'display_data';\n",
              "          await google.colab.output.renderOutput(dataTable, element);\n",
              "          const docLink = document.createElement('div');\n",
              "          docLink.innerHTML = docLinkHtml;\n",
              "          element.appendChild(docLink);\n",
              "        }\n",
              "      </script>\n",
              "    </div>\n",
              "  </div>\n",
              "  "
            ]
          },
          "metadata": {},
          "execution_count": 2
        }
      ]
    },
    {
      "cell_type": "markdown",
      "source": [
        "#ANÁLISE EXPLORATÓRIA DOS DADOS"
      ],
      "metadata": {
        "id": "29B6XfSkDFob"
      }
    },
    {
      "cell_type": "code",
      "source": [
        "#Número de linhas e colunas\n",
        "print(f'Número de linhas: {df.shape[0]}')\n",
        "print(f'Número de colunas: {df.shape[1]}')"
      ],
      "metadata": {
        "colab": {
          "base_uri": "https://localhost:8080/"
        },
        "id": "KBq-MPJETJ6g",
        "outputId": "0d9c0216-a4fd-4dad-c037-15379a17ca2b"
      },
      "execution_count": null,
      "outputs": [
        {
          "output_type": "stream",
          "name": "stdout",
          "text": [
            "Número de linhas: 1044\n",
            "Número de colunas: 33\n"
          ]
        }
      ]
    },
    {
      "cell_type": "code",
      "source": [
        "#Tipos dos dados\n",
        "df.dtypes"
      ],
      "metadata": {
        "colab": {
          "base_uri": "https://localhost:8080/"
        },
        "id": "DfJWBx7cTiwX",
        "outputId": "897cebd4-b148-4263-8653-820e600dfe23"
      },
      "execution_count": null,
      "outputs": [
        {
          "output_type": "execute_result",
          "data": {
            "text/plain": [
              "school        object\n",
              "sex           object\n",
              "age            int64\n",
              "address       object\n",
              "famsize       object\n",
              "Pstatus       object\n",
              "Medu           int64\n",
              "Fedu           int64\n",
              "Mjob          object\n",
              "Fjob          object\n",
              "reason        object\n",
              "guardian      object\n",
              "traveltime     int64\n",
              "studytime      int64\n",
              "failures       int64\n",
              "schoolsup     object\n",
              "famsup        object\n",
              "paid          object\n",
              "activities    object\n",
              "nursery       object\n",
              "higher        object\n",
              "internet      object\n",
              "romantic      object\n",
              "famrel         int64\n",
              "freetime       int64\n",
              "goout          int64\n",
              "Dalc           int64\n",
              "Walc           int64\n",
              "health         int64\n",
              "absences       int64\n",
              "G1             int64\n",
              "G2             int64\n",
              "G3             int64\n",
              "dtype: object"
            ]
          },
          "metadata": {},
          "execution_count": 4
        }
      ]
    },
    {
      "cell_type": "code",
      "source": [
        "#Valores nulos\n",
        "df.isnull().sum()"
      ],
      "metadata": {
        "id": "MkWkB4hB3AOY",
        "colab": {
          "base_uri": "https://localhost:8080/"
        },
        "outputId": "f45ab4aa-9916-407d-c7f0-02faec521622"
      },
      "execution_count": null,
      "outputs": [
        {
          "output_type": "execute_result",
          "data": {
            "text/plain": [
              "school        0\n",
              "sex           0\n",
              "age           0\n",
              "address       0\n",
              "famsize       0\n",
              "Pstatus       0\n",
              "Medu          0\n",
              "Fedu          0\n",
              "Mjob          0\n",
              "Fjob          0\n",
              "reason        0\n",
              "guardian      0\n",
              "traveltime    0\n",
              "studytime     0\n",
              "failures      0\n",
              "schoolsup     0\n",
              "famsup        0\n",
              "paid          0\n",
              "activities    0\n",
              "nursery       0\n",
              "higher        0\n",
              "internet      0\n",
              "romantic      0\n",
              "famrel        0\n",
              "freetime      0\n",
              "goout         0\n",
              "Dalc          0\n",
              "Walc          0\n",
              "health        0\n",
              "absences      0\n",
              "G1            0\n",
              "G2            0\n",
              "G3            0\n",
              "dtype: int64"
            ]
          },
          "metadata": {},
          "execution_count": 5
        }
      ]
    },
    {
      "cell_type": "code",
      "source": [
        "#Média\n",
        "df.mean(numeric_only = True)"
      ],
      "metadata": {
        "colab": {
          "base_uri": "https://localhost:8080/"
        },
        "id": "37ax3-vFcg1C",
        "outputId": "acb42892-b9d9-4a04-c91a-2e308eeebb23"
      },
      "execution_count": null,
      "outputs": [
        {
          "output_type": "execute_result",
          "data": {
            "text/plain": [
              "age           16.726054\n",
              "Medu           2.603448\n",
              "Fedu           2.387931\n",
              "traveltime     1.522989\n",
              "studytime      1.970307\n",
              "failures       0.264368\n",
              "famrel         3.935824\n",
              "freetime       3.201149\n",
              "goout          3.156130\n",
              "Dalc           1.494253\n",
              "Walc           2.284483\n",
              "health         3.543103\n",
              "absences       4.434866\n",
              "G1            11.213602\n",
              "G2            11.246169\n",
              "G3            11.341954\n",
              "dtype: float64"
            ]
          },
          "metadata": {},
          "execution_count": 6
        }
      ]
    },
    {
      "cell_type": "code",
      "source": [
        "#Mediana\n",
        "df.median(numeric_only = True)"
      ],
      "metadata": {
        "colab": {
          "base_uri": "https://localhost:8080/"
        },
        "id": "AGEpDKtAdmXN",
        "outputId": "db2cc58c-5deb-45be-80ca-db2e9ba9478f"
      },
      "execution_count": null,
      "outputs": [
        {
          "output_type": "execute_result",
          "data": {
            "text/plain": [
              "age           17.0\n",
              "Medu           3.0\n",
              "Fedu           2.0\n",
              "traveltime     1.0\n",
              "studytime      2.0\n",
              "failures       0.0\n",
              "famrel         4.0\n",
              "freetime       3.0\n",
              "goout          3.0\n",
              "Dalc           1.0\n",
              "Walc           2.0\n",
              "health         4.0\n",
              "absences       2.0\n",
              "G1            11.0\n",
              "G2            11.0\n",
              "G3            11.0\n",
              "dtype: float64"
            ]
          },
          "metadata": {},
          "execution_count": 7
        }
      ]
    },
    {
      "cell_type": "code",
      "source": [
        "#Moda\n",
        "df.mode(numeric_only = True)"
      ],
      "metadata": {
        "colab": {
          "base_uri": "https://localhost:8080/",
          "height": 125
        },
        "id": "R-Uuae-jdx5E",
        "outputId": "a37c0957-88ba-4084-c228-58f909cb77a2"
      },
      "execution_count": null,
      "outputs": [
        {
          "output_type": "execute_result",
          "data": {
            "text/plain": [
              "   age  Medu  Fedu  traveltime  studytime  failures  famrel  freetime  goout  \\\n",
              "0   16     4     2           1          2         0       4         3      3   \n",
              "\n",
              "   Dalc  Walc  health  absences  G1  G2  G3  \n",
              "0     1     1       5         0  10  11  10  "
            ],
            "text/html": [
              "\n",
              "  <div id=\"df-95901e1e-c561-4c00-9c56-ca8fc0a24365\">\n",
              "    <div class=\"colab-df-container\">\n",
              "      <div>\n",
              "<style scoped>\n",
              "    .dataframe tbody tr th:only-of-type {\n",
              "        vertical-align: middle;\n",
              "    }\n",
              "\n",
              "    .dataframe tbody tr th {\n",
              "        vertical-align: top;\n",
              "    }\n",
              "\n",
              "    .dataframe thead th {\n",
              "        text-align: right;\n",
              "    }\n",
              "</style>\n",
              "<table border=\"1\" class=\"dataframe\">\n",
              "  <thead>\n",
              "    <tr style=\"text-align: right;\">\n",
              "      <th></th>\n",
              "      <th>age</th>\n",
              "      <th>Medu</th>\n",
              "      <th>Fedu</th>\n",
              "      <th>traveltime</th>\n",
              "      <th>studytime</th>\n",
              "      <th>failures</th>\n",
              "      <th>famrel</th>\n",
              "      <th>freetime</th>\n",
              "      <th>goout</th>\n",
              "      <th>Dalc</th>\n",
              "      <th>Walc</th>\n",
              "      <th>health</th>\n",
              "      <th>absences</th>\n",
              "      <th>G1</th>\n",
              "      <th>G2</th>\n",
              "      <th>G3</th>\n",
              "    </tr>\n",
              "  </thead>\n",
              "  <tbody>\n",
              "    <tr>\n",
              "      <th>0</th>\n",
              "      <td>16</td>\n",
              "      <td>4</td>\n",
              "      <td>2</td>\n",
              "      <td>1</td>\n",
              "      <td>2</td>\n",
              "      <td>0</td>\n",
              "      <td>4</td>\n",
              "      <td>3</td>\n",
              "      <td>3</td>\n",
              "      <td>1</td>\n",
              "      <td>1</td>\n",
              "      <td>5</td>\n",
              "      <td>0</td>\n",
              "      <td>10</td>\n",
              "      <td>11</td>\n",
              "      <td>10</td>\n",
              "    </tr>\n",
              "  </tbody>\n",
              "</table>\n",
              "</div>\n",
              "      <button class=\"colab-df-convert\" onclick=\"convertToInteractive('df-95901e1e-c561-4c00-9c56-ca8fc0a24365')\"\n",
              "              title=\"Convert this dataframe to an interactive table.\"\n",
              "              style=\"display:none;\">\n",
              "        \n",
              "  <svg xmlns=\"http://www.w3.org/2000/svg\" height=\"24px\"viewBox=\"0 0 24 24\"\n",
              "       width=\"24px\">\n",
              "    <path d=\"M0 0h24v24H0V0z\" fill=\"none\"/>\n",
              "    <path d=\"M18.56 5.44l.94 2.06.94-2.06 2.06-.94-2.06-.94-.94-2.06-.94 2.06-2.06.94zm-11 1L8.5 8.5l.94-2.06 2.06-.94-2.06-.94L8.5 2.5l-.94 2.06-2.06.94zm10 10l.94 2.06.94-2.06 2.06-.94-2.06-.94-.94-2.06-.94 2.06-2.06.94z\"/><path d=\"M17.41 7.96l-1.37-1.37c-.4-.4-.92-.59-1.43-.59-.52 0-1.04.2-1.43.59L10.3 9.45l-7.72 7.72c-.78.78-.78 2.05 0 2.83L4 21.41c.39.39.9.59 1.41.59.51 0 1.02-.2 1.41-.59l7.78-7.78 2.81-2.81c.8-.78.8-2.07 0-2.86zM5.41 20L4 18.59l7.72-7.72 1.47 1.35L5.41 20z\"/>\n",
              "  </svg>\n",
              "      </button>\n",
              "      \n",
              "  <style>\n",
              "    .colab-df-container {\n",
              "      display:flex;\n",
              "      flex-wrap:wrap;\n",
              "      gap: 12px;\n",
              "    }\n",
              "\n",
              "    .colab-df-convert {\n",
              "      background-color: #E8F0FE;\n",
              "      border: none;\n",
              "      border-radius: 50%;\n",
              "      cursor: pointer;\n",
              "      display: none;\n",
              "      fill: #1967D2;\n",
              "      height: 32px;\n",
              "      padding: 0 0 0 0;\n",
              "      width: 32px;\n",
              "    }\n",
              "\n",
              "    .colab-df-convert:hover {\n",
              "      background-color: #E2EBFA;\n",
              "      box-shadow: 0px 1px 2px rgba(60, 64, 67, 0.3), 0px 1px 3px 1px rgba(60, 64, 67, 0.15);\n",
              "      fill: #174EA6;\n",
              "    }\n",
              "\n",
              "    [theme=dark] .colab-df-convert {\n",
              "      background-color: #3B4455;\n",
              "      fill: #D2E3FC;\n",
              "    }\n",
              "\n",
              "    [theme=dark] .colab-df-convert:hover {\n",
              "      background-color: #434B5C;\n",
              "      box-shadow: 0px 1px 3px 1px rgba(0, 0, 0, 0.15);\n",
              "      filter: drop-shadow(0px 1px 2px rgba(0, 0, 0, 0.3));\n",
              "      fill: #FFFFFF;\n",
              "    }\n",
              "  </style>\n",
              "\n",
              "      <script>\n",
              "        const buttonEl =\n",
              "          document.querySelector('#df-95901e1e-c561-4c00-9c56-ca8fc0a24365 button.colab-df-convert');\n",
              "        buttonEl.style.display =\n",
              "          google.colab.kernel.accessAllowed ? 'block' : 'none';\n",
              "\n",
              "        async function convertToInteractive(key) {\n",
              "          const element = document.querySelector('#df-95901e1e-c561-4c00-9c56-ca8fc0a24365');\n",
              "          const dataTable =\n",
              "            await google.colab.kernel.invokeFunction('convertToInteractive',\n",
              "                                                     [key], {});\n",
              "          if (!dataTable) return;\n",
              "\n",
              "          const docLinkHtml = 'Like what you see? Visit the ' +\n",
              "            '<a target=\"_blank\" href=https://colab.research.google.com/notebooks/data_table.ipynb>data table notebook</a>'\n",
              "            + ' to learn more about interactive tables.';\n",
              "          element.innerHTML = '';\n",
              "          dataTable['output_type'] = 'display_data';\n",
              "          await google.colab.output.renderOutput(dataTable, element);\n",
              "          const docLink = document.createElement('div');\n",
              "          docLink.innerHTML = docLinkHtml;\n",
              "          element.appendChild(docLink);\n",
              "        }\n",
              "      </script>\n",
              "    </div>\n",
              "  </div>\n",
              "  "
            ]
          },
          "metadata": {},
          "execution_count": 8
        }
      ]
    },
    {
      "cell_type": "code",
      "source": [
        "#Quartis \n",
        "print(df.quantile((0.25, 0.50, 0.75), numeric_only = True))"
      ],
      "metadata": {
        "colab": {
          "base_uri": "https://localhost:8080/"
        },
        "id": "_YfmgNYcoRvv",
        "outputId": "377924a0-2dcd-4c19-c638-d05cd5c9f1ef"
      },
      "execution_count": null,
      "outputs": [
        {
          "output_type": "stream",
          "name": "stdout",
          "text": [
            "       age  Medu  Fedu  traveltime  studytime  failures  famrel  freetime  \\\n",
            "0.25  16.0   2.0   1.0         1.0        1.0       0.0     4.0       3.0   \n",
            "0.50  17.0   3.0   2.0         1.0        2.0       0.0     4.0       3.0   \n",
            "0.75  18.0   4.0   3.0         2.0        2.0       0.0     5.0       4.0   \n",
            "\n",
            "      goout  Dalc  Walc  health  absences    G1    G2    G3  \n",
            "0.25    2.0   1.0   1.0     3.0       0.0   9.0   9.0  10.0  \n",
            "0.50    3.0   1.0   2.0     4.0       2.0  11.0  11.0  11.0  \n",
            "0.75    4.0   2.0   3.0     5.0       6.0  13.0  13.0  14.0  \n"
          ]
        }
      ]
    },
    {
      "cell_type": "code",
      "source": [
        "#Decis \n",
        "print(df.quantile(np.arange(0.1, 1, 0.1), numeric_only = True))"
      ],
      "metadata": {
        "colab": {
          "base_uri": "https://localhost:8080/"
        },
        "id": "eYVrsJLIoqxp",
        "outputId": "8bb0318c-67e7-40f6-fc15-b8ac2a97733e"
      },
      "execution_count": null,
      "outputs": [
        {
          "output_type": "stream",
          "name": "stdout",
          "text": [
            "      age  Medu  Fedu  traveltime  studytime  failures  famrel  freetime  \\\n",
            "0.1  15.0   1.0   1.0         1.0        1.0       0.0     3.0       2.0   \n",
            "0.2  16.0   1.0   1.0         1.0        1.0       0.0     3.0       2.0   \n",
            "0.3  16.0   2.0   2.0         1.0        1.0       0.0     4.0       3.0   \n",
            "0.4  16.0   2.0   2.0         1.0        2.0       0.0     4.0       3.0   \n",
            "0.5  17.0   3.0   2.0         1.0        2.0       0.0     4.0       3.0   \n",
            "0.6  17.0   3.0   3.0         2.0        2.0       0.0     4.0       3.0   \n",
            "0.7  17.0   3.0   3.0         2.0        2.0       0.0     4.0       4.0   \n",
            "0.8  18.0   4.0   4.0         2.0        3.0       0.0     5.0       4.0   \n",
            "0.9  18.0   4.0   4.0         2.0        3.0       1.0     5.0       5.0   \n",
            "\n",
            "     goout  Dalc  Walc  health  absences    G1    G2    G3  \n",
            "0.1    2.0   1.0   1.0     1.0       0.0   7.0   8.0   8.0  \n",
            "0.2    2.0   1.0   1.0     2.0       0.0   9.0   9.0   9.0  \n",
            "0.3    2.0   1.0   1.0     3.0       0.0  10.0  10.0  10.0  \n",
            "0.4    3.0   1.0   2.0     3.0       2.0  10.0  10.0  11.0  \n",
            "0.5    3.0   1.0   2.0     4.0       2.0  11.0  11.0  11.0  \n",
            "0.6    3.0   1.0   2.0     4.0       4.0  12.0  12.0  12.0  \n",
            "0.7    4.0   2.0   3.0     5.0       6.0  13.0  13.0  13.0  \n",
            "0.8    4.0   2.0   4.0     5.0       8.0  14.0  14.0  14.0  \n",
            "0.9    5.0   3.0   4.0     5.0      12.0  15.0  15.0  16.0  \n"
          ]
        }
      ]
    },
    {
      "cell_type": "code",
      "source": [
        "#Percentis \n",
        "print(df.quantile(np.arange(0.01, 1, 0.01), numeric_only = True))"
      ],
      "metadata": {
        "colab": {
          "base_uri": "https://localhost:8080/"
        },
        "id": "oDy9ejlqh6zg",
        "outputId": "1d015003-0881-471e-cf4f-ebe1fd170354"
      },
      "execution_count": null,
      "outputs": [
        {
          "output_type": "stream",
          "name": "stdout",
          "text": [
            "       age  Medu  Fedu  traveltime  studytime  failures  famrel  freetime  \\\n",
            "0.01  15.0   1.0   1.0         1.0        1.0       0.0     1.0       1.0   \n",
            "0.02  15.0   1.0   1.0         1.0        1.0       0.0     1.0       1.0   \n",
            "0.03  15.0   1.0   1.0         1.0        1.0       0.0     2.0       1.0   \n",
            "0.04  15.0   1.0   1.0         1.0        1.0       0.0     2.0       1.0   \n",
            "0.05  15.0   1.0   1.0         1.0        1.0       0.0     2.0       1.0   \n",
            "...    ...   ...   ...         ...        ...       ...     ...       ...   \n",
            "0.95  19.0   4.0   4.0         3.0        4.0       2.0     5.0       5.0   \n",
            "0.96  19.0   4.0   4.0         3.0        4.0       2.0     5.0       5.0   \n",
            "0.97  19.0   4.0   4.0         3.0        4.0       2.0     5.0       5.0   \n",
            "0.98  19.0   4.0   4.0         4.0        4.0       3.0     5.0       5.0   \n",
            "0.99  20.0   4.0   4.0         4.0        4.0       3.0     5.0       5.0   \n",
            "\n",
            "      goout  Dalc  Walc  health  absences    G1     G2     G3  \n",
            "0.01    1.0   1.0   1.0     1.0      0.00   5.0   0.00   0.00  \n",
            "0.02    1.0   1.0   1.0     1.0      0.00   6.0   4.86   0.00  \n",
            "0.03    1.0   1.0   1.0     1.0      0.00   6.0   5.00   0.00  \n",
            "0.04    1.0   1.0   1.0     1.0      0.00   6.0   6.00   0.00  \n",
            "0.05    1.0   1.0   1.0     1.0      0.00   7.0   6.00   0.15  \n",
            "...     ...   ...   ...     ...       ...   ...    ...    ...  \n",
            "0.95    5.0   3.0   5.0     5.0     16.00  16.0  17.00  17.00  \n",
            "0.96    5.0   4.0   5.0     5.0     16.00  17.0  17.00  17.00  \n",
            "0.97    5.0   4.0   5.0     5.0     18.00  17.0  17.00  18.00  \n",
            "0.98    5.0   5.0   5.0     5.0     21.00  17.0  18.00  18.00  \n",
            "0.99    5.0   5.0   5.0     5.0     25.57  18.0  18.00  18.00  \n",
            "\n",
            "[99 rows x 16 columns]\n"
          ]
        }
      ]
    },
    {
      "cell_type": "code",
      "source": [
        "#Variância \n",
        "print(df.var(numeric_only = True))"
      ],
      "metadata": {
        "colab": {
          "base_uri": "https://localhost:8080/"
        },
        "id": "nnM8D1nPjyzs",
        "outputId": "7bf1744f-3faa-411a-8863-135d13f263af"
      },
      "execution_count": null,
      "outputs": [
        {
          "output_type": "stream",
          "name": "stdout",
          "text": [
            "age            1.537537\n",
            "Medu           1.265415\n",
            "Fedu           1.209864\n",
            "traveltime     0.535425\n",
            "studytime      0.696145\n",
            "failures       0.430522\n",
            "famrel         0.871237\n",
            "freetime       1.064006\n",
            "goout          1.328428\n",
            "Dalc           0.831223\n",
            "Walc           1.651494\n",
            "health         2.029780\n",
            "absences      38.564306\n",
            "G1             8.900639\n",
            "G2            10.791692\n",
            "G3            14.936647\n",
            "dtype: float64\n"
          ]
        }
      ]
    },
    {
      "cell_type": "code",
      "source": [
        "#Desvio padrão\n",
        "print(df.std(numeric_only = True))"
      ],
      "metadata": {
        "colab": {
          "base_uri": "https://localhost:8080/"
        },
        "id": "ZED1pYX_mw3i",
        "outputId": "8be5e7a6-1390-490a-c02f-535687c2a4de"
      },
      "execution_count": null,
      "outputs": [
        {
          "output_type": "stream",
          "name": "stdout",
          "text": [
            "age           1.239975\n",
            "Medu          1.124907\n",
            "Fedu          1.099938\n",
            "traveltime    0.731727\n",
            "studytime     0.834353\n",
            "failures      0.656142\n",
            "famrel        0.933401\n",
            "freetime      1.031507\n",
            "goout         1.152575\n",
            "Dalc          0.911714\n",
            "Walc          1.285105\n",
            "health        1.424703\n",
            "absences      6.210017\n",
            "G1            2.983394\n",
            "G2            3.285071\n",
            "G3            3.864796\n",
            "dtype: float64\n"
          ]
        }
      ]
    },
    {
      "cell_type": "code",
      "source": [
        "#Amplitude\n",
        "print(df.select_dtypes(include='number').max() - df.select_dtypes(include='number').min())"
      ],
      "metadata": {
        "colab": {
          "base_uri": "https://localhost:8080/"
        },
        "id": "9dIP-0x9neCI",
        "outputId": "30636ccb-63b1-40db-9fb1-72f6e1a0511d"
      },
      "execution_count": null,
      "outputs": [
        {
          "output_type": "stream",
          "name": "stdout",
          "text": [
            "age            7\n",
            "Medu           4\n",
            "Fedu           4\n",
            "traveltime     3\n",
            "studytime      3\n",
            "failures       3\n",
            "famrel         4\n",
            "freetime       4\n",
            "goout          4\n",
            "Dalc           4\n",
            "Walc           4\n",
            "health         4\n",
            "absences      75\n",
            "G1            19\n",
            "G2            19\n",
            "G3            20\n",
            "dtype: int64\n"
          ]
        }
      ]
    },
    {
      "cell_type": "code",
      "source": [
        "#Coeficiente de variação \n",
        "print(df.std(numeric_only = True)/df.mean(numeric_only = True))"
      ],
      "metadata": {
        "colab": {
          "base_uri": "https://localhost:8080/"
        },
        "id": "ufCZsErQsJKm",
        "outputId": "2ef62787-e82b-4357-af07-f21b19526df8"
      },
      "execution_count": null,
      "outputs": [
        {
          "output_type": "stream",
          "name": "stdout",
          "text": [
            "age           0.074134\n",
            "Medu          0.432083\n",
            "Fedu          0.460624\n",
            "traveltime    0.480455\n",
            "studytime     0.423464\n",
            "failures      2.481928\n",
            "famrel        0.237155\n",
            "freetime      0.322230\n",
            "goout         0.365186\n",
            "Dalc          0.610147\n",
            "Walc          0.562536\n",
            "health        0.402106\n",
            "absences      1.400272\n",
            "G1            0.266051\n",
            "G2            0.292106\n",
            "G3            0.340752\n",
            "dtype: float64\n"
          ]
        }
      ]
    },
    {
      "cell_type": "code",
      "source": [
        "#Correlações\n",
        "sns.heatmap(df.corr(numeric_only = True))"
      ],
      "metadata": {
        "colab": {
          "base_uri": "https://localhost:8080/",
          "height": 510
        },
        "id": "qwVLZSmC2U7L",
        "outputId": "06f018c3-8839-4264-8718-3b95013b2754"
      },
      "execution_count": null,
      "outputs": [
        {
          "output_type": "execute_result",
          "data": {
            "text/plain": [
              "<Axes: >"
            ]
          },
          "metadata": {},
          "execution_count": 16
        },
        {
          "output_type": "display_data",
          "data": {
            "text/plain": [
              "<Figure size 640x480 with 2 Axes>"
            ],
            "image/png": "[encoded data removed]"
          },
          "metadata": {}
        }
      ]
    },
    {
      "cell_type": "code",
      "source": [
        "#Distribuição de frequências \n",
        "df.hist(figsize = [10, 10], bins = 4, grid = False)"
      ],
      "metadata": {
        "colab": {
          "base_uri": "https://localhost:8080/",
          "height": 1000
        },
        "id": "22NBpf4Qmfob",
        "outputId": "e9c73f19-6e7f-4328-d704-57f8a90ac6b7"
      },
      "execution_count": null,
      "outputs": [
        {
          "output_type": "execute_result",
          "data": {
            "text/plain": [
              "array([[<Axes: title={'center': 'age'}>,\n",
              "        <Axes: title={'center': 'Medu'}>,\n",
              "        <Axes: title={'center': 'Fedu'}>,\n",
              "        <Axes: title={'center': 'traveltime'}>],\n",
              "       [<Axes: title={'center': 'studytime'}>,\n",
              "        <Axes: title={'center': 'failures'}>,\n",
              "        <Axes: title={'center': 'famrel'}>,\n",
              "        <Axes: title={'center': 'freetime'}>],\n",
              "       [<Axes: title={'center': 'goout'}>,\n",
              "        <Axes: title={'center': 'Dalc'}>,\n",
              "        <Axes: title={'center': 'Walc'}>,\n",
              "        <Axes: title={'center': 'health'}>],\n",
              "       [<Axes: title={'center': 'absences'}>,\n",
              "        <Axes: title={'center': 'G1'}>, <Axes: title={'center': 'G2'}>,\n",
              "        <Axes: title={'center': 'G3'}>]], dtype=object)"
            ]
          },
          "metadata": {},
          "execution_count": 17
        },
        {
          "output_type": "display_data",
          "data": {
            "text/plain": [
              "<Figure size 1000x1000 with 16 Axes>"
            ],
            "image/png": "[encoded data removed]"
          },
          "metadata": {}
        }
      ]
    },
    {
      "cell_type": "code",
      "source": [
        "#Outliers\n",
        "sns.boxplot(df, orient = 'h')"
      ],
      "metadata": {
        "colab": {
          "base_uri": "https://localhost:8080/",
          "height": 447
        },
        "id": "wK9ScZYaru_v",
        "outputId": "8187b8c4-c2de-4d2a-8b96-a91255e5a234"
      },
      "execution_count": null,
      "outputs": [
        {
          "output_type": "execute_result",
          "data": {
            "text/plain": [
              "<Axes: >"
            ]
          },
          "metadata": {},
          "execution_count": 18
        },
        {
          "output_type": "display_data",
          "data": {
            "text/plain": [
              "<Figure size 640x480 with 1 Axes>"
            ],
            "image/png": "[encoded data removed]"
          },
          "metadata": {}
        }
      ]
    }
  ]
}